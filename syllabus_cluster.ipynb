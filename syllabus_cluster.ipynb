{
 "cells": [
  {
   "cell_type": "code",
   "execution_count": null,
   "metadata": {},
   "outputs": [],
   "source": [
    "import requests\n",
    "from bs4 import BeautifulSoup\n",
    "from lxml import html\n",
    "import pandas as pd\n",
    "import pickle\n",
    "import re\n",
    "import os\n",
    "import urllib.request\n",
    "\n",
    "\n",
    "url = 'https://syllabus.naist.jp/subjects/preview_list'\n",
    "res = requests.get(url)\n",
    "soup = BeautifulSoup(res.text, 'html.parser')\n",
    "\n",
    "lxml = html.fromstring(str(soup))\n",
    "\n",
    "title = []\n",
    "url = []\n",
    "\n",
    "#授業名(title)とシラバスの授業ページへのurl(url)\n",
    "title.append(lxml.xpath('//td[@class=\"w20pr\"]/a/text()'))\n",
    "url.append(lxml.xpath('//td[@class=\"w20pr\"]/a/@href'))\n",
    "\n",
    "head = 'https://syllabus.naist.jp/'\n",
    "\n",
    "#'教育目的'と'授業概要'があるのでそれぞれpurpose, conceptとして集める\n",
    "purpose = []\n",
    "concept = []\n",
    "for i in range(len(title[0])):\n",
    "    res2 = requests.get(head + url[0][i])\n",
    "    soup2 = BeautifulSoup(res2.text, 'html.parser')\n",
    "    lxml2 = html.fromstring(str(soup2))\n",
    "\n",
    "\n",
    "\n",
    "    purpose.append(lxml2.xpath('//th[text()=\"教育目的／授業目標\"]/following-sibling::td[1]/text()')[0])\n",
    "    concept.append(lxml2.xpath('//th[text()=\"授業概要／指導方針\"]/following-sibling::td[1]/text()')[0])\n",
    "    \n",
    "df = pd.DataFrame({'授業名': title[0], 'シラバスURL':url[0], '教育目的': purpose, '授業概要': concept})\n",
    "\n",
    "df['uni'] = df['教育目的'] + df['授業概要']\n",
    "#今回は日本語シラバスのみを対象にしたいので、英語で書かれているなどのシラバスは削除\n",
    "df.drop(df.index[[0,4,10,11,12,13,14,16,67,110]], inplace=True)\n",
    "df = df.reset_index(drop=True)"
   ]
  },
  {
   "cell_type": "code",
   "execution_count": 78,
   "metadata": {},
   "outputs": [],
   "source": [
    "\n",
    "with open('data.pickle', 'rb') as f:\n",
    "    df = pickle.load(f)\n"
   ]
  },
  {
   "cell_type": "code",
   "execution_count": 79,
   "metadata": {},
   "outputs": [],
   "source": [
    "\n",
    "from janome.tokenizer import Tokenizer\n",
    "t = Tokenizer()\n",
    "\n",
    "def tokenizer(text):\n",
    "    text = re.sub('\\d+', '', text)\n",
    "    return [tok for tok in t.tokenize(text, wakati=True)]\n",
    "\n",
    "    \n",
    "df['wakati'] = df['uni'].apply(tokenizer)"
   ]
  },
  {
   "cell_type": "code",
   "execution_count": 81,
   "metadata": {},
   "outputs": [
    {
     "name": "stdout",
     "output_type": "stream",
     "text": [
      "File already exists.\n"
     ]
    }
   ],
   "source": [
    "\n",
    "def download_stopwords(path):\n",
    "    url = 'http://svn.sourceforge.jp/svnroot/slothlib/CSharp/Version1/SlothLib/NLP/Filter/StopWord/word/Japanese.txt'\n",
    "    if os.path.exists(path):\n",
    "        print('File already exists.')\n",
    "    else:\n",
    "        print('Downloading...')\n",
    "        # Download the file from `url` and save it locally under `file_name`:\n",
    "        urllib.request.urlretrieve(url, path)\n",
    "\n",
    "def create_stopwords(file_path):\n",
    "    stop_words = []\n",
    "    for w in open(path, \"r\"):\n",
    "        w = w.replace('\\n','')\n",
    "        if len(w) > 0:\n",
    "          stop_words.append(w)\n",
    "    return stop_words    \n",
    "\n",
    "path = \"stop_words.txt\"\n",
    "download_stopwords(path)\n",
    "stop_words = create_stopwords(path)\n",
    "\n",
    "#option:ストップワード以外の不要な文字\n",
    "option = ['(', ')', '（', '）', ',', '、', '。', '／', '/', '：', ':', '[', ']', '・', '.', '（']\n",
    "stop_words = stop_words + option\n",
    "\n",
    "#数字、アルファベットを削除\n",
    "\n",
    "#分かち書きしたテキストに対してストップワードを削除\n",
    "def stopwords(wakati):\n",
    "    return [t for t in wakati if t not in stop_words]\n",
    "\n",
    "\n",
    "#前処理\n",
    "df['wakati'] = df['wakati'].apply(stopwords)\n",
    "\n"
   ]
  },
  {
   "cell_type": "code",
   "execution_count": 90,
   "metadata": {},
   "outputs": [],
   "source": [
    "#分かち書きしたシラバスからDoc2Vecで分散表現を得る\n",
    "#Kmeansでクラスタリングするときに次元数が多いと距離関係を有効に使えなさそうなので、PCAで次元削減する。\n",
    "from gensim.models.doc2vec import Doc2Vec\n",
    "from sklearn.decomposition import PCA\n",
    "model = Doc2Vec.load(\"jawiki.doc2vec.dbow300d.model\")\n",
    "\n",
    "df['vec'] = df['wakati'].apply(model.infer_vector)\n",
    "pca = PCA(n_components=2)\n",
    "\n",
    "data_pca= pca.fit_transform(df['vec'].values.tolist())\n",
    "\n"
   ]
  },
  {
   "cell_type": "code",
   "execution_count": 112,
   "metadata": {},
   "outputs": [
    {
     "data": {
      "image/png": "[encoded data removed]",
      "text/plain": [
       "<Figure size 432x288 with 1 Axes>"
      ]
     },
     "metadata": {
      "needs_background": "light"
     },
     "output_type": "display_data"
    }
   ],
   "source": [
    "\n",
    "from sklearn.cluster import KMeans\n",
    "import matplotlib.pyplot as plt\n",
    "\n",
    "distortions = []\n",
    "\n",
    "for i  in range(1,30):               \n",
    "    km = KMeans(n_clusters=i,\n",
    "                init='k-means++', \n",
    "                n_init=10,\n",
    "                max_iter=300,\n",
    "                random_state=2020)\n",
    "    km.fit(data_pca)\n",
    "    distortions.append(km.inertia_)\n",
    "\n",
    "plt.plot(range(1,30),distortions,marker='o')\n",
    "plt.xlabel('Number of clusters')\n",
    "plt.ylabel('inertia')\n",
    "plt.show()\n"
   ]
  },
  {
   "cell_type": "code",
   "execution_count": null,
   "metadata": {},
   "outputs": [],
   "source": [
    "n_clusters = 5\n",
    "kmeans_model = KMeans(n_clusters=n_clusters, verbose=1, random_state=2020, n_jobs=-1, max_iter = 500)\n",
    "\n",
    "kmeans_model.fit(data_pca)\n",
    "label = kmeans_model.labels_\n",
    "df['kmeans'] = label"
   ]
  },
  {
   "cell_type": "code",
   "execution_count": 95,
   "metadata": {},
   "outputs": [],
   "source": [
    "#wordcloudで使う名詞リストの準備\n",
    "\n",
    "def extract_noun(text):\n",
    "    nouns = []\n",
    "    tokened = stopwords(t.tokenize(text))\n",
    "    for token in t.tokenize(text):\n",
    "        part_of_speech = token.part_of_speech.split(',')[0]\n",
    "        if part_of_speech == u'名詞':\n",
    "            word = token.surface\n",
    "            nouns.append(word)\n",
    "    return nouns\n",
    "\n",
    "df['noun'] = df['uni'].apply(extract_noun)\n",
    "df['noun'] = df['noun'].apply(stopwords)"
   ]
  },
  {
   "cell_type": "code",
   "execution_count": 111,
   "metadata": {},
   "outputs": [],
   "source": [
    "from wordcloud import WordCloud\n",
    "\n",
    "\n",
    "\n",
    "def text_for_wordcloud(data, idx):\n",
    "\n",
    "    text = []\n",
    "    Series = data[data['kmeans'] == idx]['noun']\n",
    "    for col in Series:\n",
    "        text += col\n",
    "    \n",
    "    text = ' '.join(text)\n",
    "    \n",
    "    fpath = \"~/Library/Fonts/Arial Unicode.ttf\"\n",
    "    wc = WordCloud(width=480, height=320, font_path = fpath)\n",
    "    wc.generate(text)\n",
    "    wc.to_file(\"wordcloud%s.png\" % idx)\n",
    "    \n",
    "\n",
    "\n",
    "for i in range(5):\n",
    "    text_for_wordcloud(df, i)\n"
   ]
  },
  {
   "cell_type": "code",
   "execution_count": null,
   "metadata": {},
   "outputs": [],
   "source": []
  }
 ],
 "metadata": {
  "kernelspec": {
   "display_name": "hoge",
   "language": "python",
   "name": "hoge"
  },
  "language_info": {
   "codemirror_mode": {
    "name": "ipython",
    "version": 3
   },
   "file_extension": ".py",
   "mimetype": "text/x-python",
   "name": "python",
   "nbconvert_exporter": "python",
   "pygments_lexer": "ipython3",
   "version": "3.7.3"
  }
 },
 "nbformat": 4,
 "nbformat_minor": 2
}
